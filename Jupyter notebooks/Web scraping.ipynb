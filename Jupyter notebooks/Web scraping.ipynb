{
 "cells": [
  {
   "cell_type": "code",
   "execution_count": 1,
   "id": "13b81cc4",
   "metadata": {},
   "outputs": [],
   "source": [
    "# Imports\n",
    "\n",
    "import pandas as pd\n",
    "import time\n",
    "from selenium import webdriver\n",
    "from webdriver_manager.chrome import ChromeDriverManager\n",
    "import matplotlib.pyplot as plt"
   ]
  },
  {
   "cell_type": "code",
   "execution_count": 32,
   "id": "91314031",
   "metadata": {},
   "outputs": [],
   "source": [
    "# Creating web driver object\n",
    "driver = webdriver.Chrome()\n",
    "page_url = \"https://harrypotter.fandom.com/wiki/Category:Character_indexes\"\n",
    "driver.get(page_url)\n",
    "\n",
    "# Extracting data from web pages\n",
    "# Books\n",
    "from selenium.webdriver.common.by import By\n",
    "books = driver.find_elements(By.CLASS_NAME, 'category-page__member-link') \n",
    "\n",
    "## Check\n",
    "#print(books[6].text) # Books got extracted\n",
    "#print(books[0].get_attribute('href')) # Links for books\n",
    "#driver.get(books[0].get_attribute('href')) # Access the link\n",
    "#characters = driver.find_elements(By.CLASS_NAME, 'article-table') \n",
    "#print(characters[1].text)\n",
    "\n",
    "time.sleep(3)\n",
    "# Creating a dictionary of books and URLs\n",
    "books_url_dict = []\n",
    "for category in books:\n",
    "    book_url = category.get_attribute('href')\n",
    "    book_name = category.text.replace(' (character index)','')\n",
    "    books_url_dict.append({'book_name':book_name, 'url':book_url})\n",
    "#print(books_url_dict)\n",
    "\n",
    "# Extract characters\n",
    "char_list_1 = []\n",
    "char_list_2 = []\n",
    "for i in range(0,len(books_url_dict)):\n",
    "    if i in (0,5): # Part 1\n",
    "        # for book in books_url_dict:\n",
    "        #book+=books_url_dict[i]\n",
    "        # go to book page\n",
    "        driver.get(books_url_dict[i]['url'])\n",
    "\n",
    "        char_elems = driver.find_elements(By.CLASS_NAME, 'article-table')\n",
    "        for elem in char_elems:\n",
    "            char_list_1.append({'book':books_url_dict[i]['book_name'],'character':elem.text})\n",
    "        #print(char_list_1[0])\n",
    "    if i in (1,2,3,4,6): # Part 2\n",
    "        book = books_url_dict[i]\n",
    "        # go to book page\n",
    "        driver.get(book['url'])\n",
    "        char_elems = driver.find_elements(By.XPATH, '//*[@id=\"mw-content-text\"]/div/ul')\n",
    "        for elem in char_elems[:-2]:\n",
    "            char_list_2.append({'book':book['book_name'],'character':elem.text})\n",
    "        #print(char_list_2[0])\n",
    "\n",
    "# # Extract characters (Part 1)\n",
    "# char_list_1 = []\n",
    "# for book in books_url_dict:\n",
    "#     # go to book page\n",
    "#     driver.get(book['url'])\n",
    "    \n",
    "#     char_elems = driver.find_elements(By.CLASS_NAME, 'article-table')\n",
    "#     for elem in char_elems:\n",
    "#         char_list_1.append({'book':book['book_name'],'character':elem.text})\n",
    "# print(char_list_1[0])\n",
    "\n",
    "# # Extract characters (Part 2)\n",
    "# time.sleep(3)\n",
    "# char_list_2 = []\n",
    "# for book in books_url_dict:\n",
    "#     # go to book page\n",
    "#     driver.get(book['url'])\n",
    "    \n",
    "#     char_elems = driver.find_elements(By.XPATH, '//*[@id=\"mw-content-text\"]/div/ul')\n",
    "#     for elem in char_elems:\n",
    "#         char_list_2.append({'book':book['book_name'],'character':elem.text})\n",
    "# print(char_list_2[0])"
   ]
  },
  {
   "cell_type": "code",
   "execution_count": 93,
   "id": "f52cb0c7",
   "metadata": {},
   "outputs": [],
   "source": [
    "# Converting the scrapped data into a DataFrame and Preprocessing\n",
    "# Converting names to lists\n",
    "for i in char_list_1:\n",
    "    i['character'] = i['character'].split('\\n')\n",
    "\n",
    "for i in char_list_2:\n",
    "    i['character'] = i['character'].split('\\n')\n",
    "\n",
    "# Creating Dataframes\n",
    "# char_list_1\n",
    "df_1 = pd.DataFrame(char_list_1[0])\n",
    "for i in range(1,len(char_list_1)):\n",
    "    new = pd.DataFrame(char_list_1[i])\n",
    "    df_1 = df_1.append(new)\n",
    "    \n",
    "# char_list_2\n",
    "df_2 = pd.DataFrame(char_list_2[0])\n",
    "for i in range(1,len(char_list_2)):\n",
    "    new = pd.DataFrame(char_list_2[i])\n",
    "    df_2 = df_2.append(new)\n",
    "    \n",
    "df = df_1.append(df_2)\n",
    "df.reset_index(drop=True, inplace=True)"
   ]
  },
  {
   "cell_type": "code",
   "execution_count": 85,
   "id": "c9f15c59",
   "metadata": {},
   "outputs": [
    {
     "data": {
      "image/png": "[encoded data removed]",
      "text/plain": [
       "<Figure size 432x288 with 1 Axes>"
      ]
     },
     "metadata": {
      "needs_background": "light"
     },
     "output_type": "display_data"
    }
   ],
   "source": [
    "# Visualizing character counts in each book\n",
    "\n",
    "df['book'].value_counts().plot(kind='bar')\n",
    "plt.show()"
   ]
  },
  {
   "cell_type": "code",
   "execution_count": null,
   "id": "b3f1b6dd",
   "metadata": {},
   "outputs": [],
   "source": []
  }
 ],
 "metadata": {
  "kernelspec": {
   "display_name": "Python 3 (ipykernel)",
   "language": "python",
   "name": "python3"
  },
  "language_info": {
   "codemirror_mode": {
    "name": "ipython",
    "version": 3
   },
   "file_extension": ".py",
   "mimetype": "text/x-python",
   "name": "python",
   "nbconvert_exporter": "python",
   "pygments_lexer": "ipython3",
   "version": "3.9.7"
  }
 },
 "nbformat": 4,
 "nbformat_minor": 5
}
